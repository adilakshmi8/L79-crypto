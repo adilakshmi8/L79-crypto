{
  "cells": [
    {
      "cell_type": "code",
      "execution_count": 4,
      "metadata": {
        "colab": {
          "base_uri": "https://localhost:8080/"
        },
        "id": "i8FEETYPN07d",
        "outputId": "6a83ce56-39a2-4c73-9f6a-b9bedde58e05"
      },
      "outputs": [
        {
          "name": "stdout",
          "output_type": "stream",
          "text": [
            "Encrypted: Dglodnvkpl, FVH\n",
            "Decrypted: Adilakshmi, CSE\n"
          ]
        }
      ],
      "source": [
        "def caesar_cipher_encrypt(text, shift):\n",
        "    encrypted_text = \"\"\n",
        "    for char in text:\n",
        "        if char.isalpha():\n",
        "            shift_base = ord('A') if char.isupper() else ord('a')\n",
        "            encrypted_text += chr((ord(char) - shift_base + shift) % 26 + shift_base)\n",
        "        else:\n",
        "            encrypted_text += char\n",
        "    return encrypted_text\n",
        "\n",
        "def caesar_cipher_decrypt(text, shift):\n",
        "    return caesar_cipher_encrypt(text, -shift)\n",
        "\n",
        "if __name__ == \"__main__\":.\n",
        "    plaintext = \"Adilakshmi, CSE\"\n",
        "    shift = 3\n",
        "    encrypted = caesar_cipher_encrypt(plaintext, shift)\n",
        "    print(\"Encrypted:\", encrypted)\n",
        "    decrypted = caesar_cipher_decrypt(encrypted, shift)\n",
        "    print(\"Decrypted:\", decrypted)"
      ]
    }
  ],
  "metadata": {
    "colab": {
      "provenance": []
    },
    "kernelspec": {
      "display_name": "Python 3",
      "name": "python3"
    },
    "language_info": {
      "name": "python"
    }
  },
  "nbformat": 4,
  "nbformat_minor": 0
}
